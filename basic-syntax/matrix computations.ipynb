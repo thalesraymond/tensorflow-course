{
 "cells": [
  {
   "cell_type": "code",
   "execution_count": 1,
   "metadata": {},
   "outputs": [],
   "source": [
    "import tensorflow as tf"
   ]
  },
  {
   "cell_type": "code",
   "execution_count": 5,
   "metadata": {},
   "outputs": [],
   "source": [
    "a = tf.constant([[-1.0,7.0,5.0]], name = \"inputs\")\n",
    "b = tf.constant([[0.8,0.1,0]], name = \"weights\")\n",
    "multiplication = tf.multiply(a, b)\n",
    "sum = tf.reduce_sum(multiplication)"
   ]
  },
  {
   "cell_type": "code",
   "execution_count": 6,
   "metadata": {},
   "outputs": [
    {
     "name": "stdout",
     "output_type": "stream",
     "text": [
      "[[-1.  7.  5.]]\n",
      "\n",
      "\n",
      "[[0.8 0.1 0. ]]\n",
      "\n",
      "\n",
      "[[-0.8  0.7  0. ]]\n",
      "\n",
      "\n",
      "-0.100000024\n"
     ]
    }
   ],
   "source": [
    "with tf.Session() as sess:\n",
    "    print(sess.run(a))\n",
    "    print(\"\\n\")\n",
    "    print(sess.run(b))\n",
    "    print(\"\\n\")\n",
    "    print(sess.run(multiplication))\n",
    "    print(\"\\n\")\n",
    "    print(sess.run(sum))"
   ]
  },
  {
   "cell_type": "code",
   "execution_count": null,
   "metadata": {},
   "outputs": [],
   "source": []
  }
 ],
 "metadata": {
  "kernelspec": {
   "display_name": "Python 3",
   "language": "python",
   "name": "python3"
  },
  "language_info": {
   "codemirror_mode": {
    "name": "ipython",
    "version": 3
   },
   "file_extension": ".py",
   "mimetype": "text/x-python",
   "name": "python",
   "nbconvert_exporter": "python",
   "pygments_lexer": "ipython3",
   "version": "3.7.4"
  }
 },
 "nbformat": 4,
 "nbformat_minor": 2
}
