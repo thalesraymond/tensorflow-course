{
 "cells": [
  {
   "cell_type": "code",
   "execution_count": 1,
   "metadata": {},
   "outputs": [
    {
     "data": {
      "text/html": [
       "<div>\n",
       "<style scoped>\n",
       "    .dataframe tbody tr th:only-of-type {\n",
       "        vertical-align: middle;\n",
       "    }\n",
       "\n",
       "    .dataframe tbody tr th {\n",
       "        vertical-align: top;\n",
       "    }\n",
       "\n",
       "    .dataframe thead th {\n",
       "        text-align: right;\n",
       "    }\n",
       "</style>\n",
       "<table border=\"1\" class=\"dataframe\">\n",
       "  <thead>\n",
       "    <tr style=\"text-align: right;\">\n",
       "      <th></th>\n",
       "      <th>id</th>\n",
       "      <th>date</th>\n",
       "      <th>price</th>\n",
       "      <th>bedrooms</th>\n",
       "      <th>bathrooms</th>\n",
       "      <th>sqft_living</th>\n",
       "      <th>sqft_lot</th>\n",
       "      <th>floors</th>\n",
       "      <th>waterfront</th>\n",
       "      <th>view</th>\n",
       "      <th>...</th>\n",
       "      <th>grade</th>\n",
       "      <th>sqft_above</th>\n",
       "      <th>sqft_basement</th>\n",
       "      <th>yr_built</th>\n",
       "      <th>yr_renovated</th>\n",
       "      <th>zipcode</th>\n",
       "      <th>lat</th>\n",
       "      <th>long</th>\n",
       "      <th>sqft_living15</th>\n",
       "      <th>sqft_lot15</th>\n",
       "    </tr>\n",
       "  </thead>\n",
       "  <tbody>\n",
       "    <tr>\n",
       "      <th>0</th>\n",
       "      <td>7129300520</td>\n",
       "      <td>20141013T000000</td>\n",
       "      <td>221900.0</td>\n",
       "      <td>3</td>\n",
       "      <td>1.00</td>\n",
       "      <td>1180</td>\n",
       "      <td>5650</td>\n",
       "      <td>1.0</td>\n",
       "      <td>0</td>\n",
       "      <td>0</td>\n",
       "      <td>...</td>\n",
       "      <td>7</td>\n",
       "      <td>1180</td>\n",
       "      <td>0</td>\n",
       "      <td>1955</td>\n",
       "      <td>0</td>\n",
       "      <td>98178</td>\n",
       "      <td>47.5112</td>\n",
       "      <td>-122.257</td>\n",
       "      <td>1340</td>\n",
       "      <td>5650</td>\n",
       "    </tr>\n",
       "    <tr>\n",
       "      <th>1</th>\n",
       "      <td>6414100192</td>\n",
       "      <td>20141209T000000</td>\n",
       "      <td>538000.0</td>\n",
       "      <td>3</td>\n",
       "      <td>2.25</td>\n",
       "      <td>2570</td>\n",
       "      <td>7242</td>\n",
       "      <td>2.0</td>\n",
       "      <td>0</td>\n",
       "      <td>0</td>\n",
       "      <td>...</td>\n",
       "      <td>7</td>\n",
       "      <td>2170</td>\n",
       "      <td>400</td>\n",
       "      <td>1951</td>\n",
       "      <td>1991</td>\n",
       "      <td>98125</td>\n",
       "      <td>47.7210</td>\n",
       "      <td>-122.319</td>\n",
       "      <td>1690</td>\n",
       "      <td>7639</td>\n",
       "    </tr>\n",
       "    <tr>\n",
       "      <th>2</th>\n",
       "      <td>5631500400</td>\n",
       "      <td>20150225T000000</td>\n",
       "      <td>180000.0</td>\n",
       "      <td>2</td>\n",
       "      <td>1.00</td>\n",
       "      <td>770</td>\n",
       "      <td>10000</td>\n",
       "      <td>1.0</td>\n",
       "      <td>0</td>\n",
       "      <td>0</td>\n",
       "      <td>...</td>\n",
       "      <td>6</td>\n",
       "      <td>770</td>\n",
       "      <td>0</td>\n",
       "      <td>1933</td>\n",
       "      <td>0</td>\n",
       "      <td>98028</td>\n",
       "      <td>47.7379</td>\n",
       "      <td>-122.233</td>\n",
       "      <td>2720</td>\n",
       "      <td>8062</td>\n",
       "    </tr>\n",
       "    <tr>\n",
       "      <th>3</th>\n",
       "      <td>2487200875</td>\n",
       "      <td>20141209T000000</td>\n",
       "      <td>604000.0</td>\n",
       "      <td>4</td>\n",
       "      <td>3.00</td>\n",
       "      <td>1960</td>\n",
       "      <td>5000</td>\n",
       "      <td>1.0</td>\n",
       "      <td>0</td>\n",
       "      <td>0</td>\n",
       "      <td>...</td>\n",
       "      <td>7</td>\n",
       "      <td>1050</td>\n",
       "      <td>910</td>\n",
       "      <td>1965</td>\n",
       "      <td>0</td>\n",
       "      <td>98136</td>\n",
       "      <td>47.5208</td>\n",
       "      <td>-122.393</td>\n",
       "      <td>1360</td>\n",
       "      <td>5000</td>\n",
       "    </tr>\n",
       "    <tr>\n",
       "      <th>4</th>\n",
       "      <td>1954400510</td>\n",
       "      <td>20150218T000000</td>\n",
       "      <td>510000.0</td>\n",
       "      <td>3</td>\n",
       "      <td>2.00</td>\n",
       "      <td>1680</td>\n",
       "      <td>8080</td>\n",
       "      <td>1.0</td>\n",
       "      <td>0</td>\n",
       "      <td>0</td>\n",
       "      <td>...</td>\n",
       "      <td>8</td>\n",
       "      <td>1680</td>\n",
       "      <td>0</td>\n",
       "      <td>1987</td>\n",
       "      <td>0</td>\n",
       "      <td>98074</td>\n",
       "      <td>47.6168</td>\n",
       "      <td>-122.045</td>\n",
       "      <td>1800</td>\n",
       "      <td>7503</td>\n",
       "    </tr>\n",
       "  </tbody>\n",
       "</table>\n",
       "<p>5 rows × 21 columns</p>\n",
       "</div>"
      ],
      "text/plain": [
       "           id             date     price  bedrooms  bathrooms  sqft_living  \\\n",
       "0  7129300520  20141013T000000  221900.0         3       1.00         1180   \n",
       "1  6414100192  20141209T000000  538000.0         3       2.25         2570   \n",
       "2  5631500400  20150225T000000  180000.0         2       1.00          770   \n",
       "3  2487200875  20141209T000000  604000.0         4       3.00         1960   \n",
       "4  1954400510  20150218T000000  510000.0         3       2.00         1680   \n",
       "\n",
       "   sqft_lot  floors  waterfront  view  ...  grade  sqft_above  sqft_basement  \\\n",
       "0      5650     1.0           0     0  ...      7        1180              0   \n",
       "1      7242     2.0           0     0  ...      7        2170            400   \n",
       "2     10000     1.0           0     0  ...      6         770              0   \n",
       "3      5000     1.0           0     0  ...      7        1050            910   \n",
       "4      8080     1.0           0     0  ...      8        1680              0   \n",
       "\n",
       "   yr_built  yr_renovated  zipcode      lat     long  sqft_living15  \\\n",
       "0      1955             0    98178  47.5112 -122.257           1340   \n",
       "1      1951          1991    98125  47.7210 -122.319           1690   \n",
       "2      1933             0    98028  47.7379 -122.233           2720   \n",
       "3      1965             0    98136  47.5208 -122.393           1360   \n",
       "4      1987             0    98074  47.6168 -122.045           1800   \n",
       "\n",
       "   sqft_lot15  \n",
       "0        5650  \n",
       "1        7639  \n",
       "2        8062  \n",
       "3        5000  \n",
       "4        7503  \n",
       "\n",
       "[5 rows x 21 columns]"
      ]
     },
     "execution_count": 1,
     "metadata": {},
     "output_type": "execute_result"
    }
   ],
   "source": [
    "import pandas as pd\n",
    "base = pd.read_csv('house-prices.csv')\n",
    "base.head()"
   ]
  },
  {
   "cell_type": "code",
   "execution_count": 2,
   "metadata": {},
   "outputs": [
    {
     "data": {
      "text/plain": [
       "(21613, 21)"
      ]
     },
     "execution_count": 2,
     "metadata": {},
     "output_type": "execute_result"
    }
   ],
   "source": [
    "base.shape"
   ]
  },
  {
   "cell_type": "code",
   "execution_count": 3,
   "metadata": {},
   "outputs": [],
   "source": [
    "X = base.iloc[:, 5:6].values\n",
    "y = base.iloc[:, 2:3].values"
   ]
  },
  {
   "cell_type": "code",
   "execution_count": 4,
   "metadata": {},
   "outputs": [
    {
     "data": {
      "text/plain": [
       "array([[1180],\n",
       "       [2570],\n",
       "       [ 770],\n",
       "       ...,\n",
       "       [1020],\n",
       "       [1600],\n",
       "       [1020]], dtype=int64)"
      ]
     },
     "execution_count": 4,
     "metadata": {},
     "output_type": "execute_result"
    }
   ],
   "source": [
    "X"
   ]
  },
  {
   "cell_type": "code",
   "execution_count": 5,
   "metadata": {},
   "outputs": [
    {
     "data": {
      "text/plain": [
       "array([[221900.],\n",
       "       [538000.],\n",
       "       [180000.],\n",
       "       ...,\n",
       "       [402101.],\n",
       "       [400000.],\n",
       "       [325000.]])"
      ]
     },
     "execution_count": 5,
     "metadata": {},
     "output_type": "execute_result"
    }
   ],
   "source": [
    "y"
   ]
  },
  {
   "cell_type": "code",
   "execution_count": 6,
   "metadata": {},
   "outputs": [],
   "source": [
    "from sklearn.preprocessing import StandardScaler\n",
    "scaler_x = StandardScaler()\n",
    "X = scaler_x.fit_transform(X)\n",
    "scaler_y = StandardScaler()\n",
    "y = scaler_y.fit_transform(y)"
   ]
  },
  {
   "cell_type": "code",
   "execution_count": 7,
   "metadata": {},
   "outputs": [
    {
     "data": {
      "text/plain": [
       "array([[-0.97983502],\n",
       "       [ 0.53363434],\n",
       "       [-1.42625404],\n",
       "       ...,\n",
       "       [-1.15404732],\n",
       "       [-0.52252773],\n",
       "       [-1.15404732]])"
      ]
     },
     "execution_count": 7,
     "metadata": {},
     "output_type": "execute_result"
    }
   ],
   "source": [
    "X"
   ]
  },
  {
   "cell_type": "code",
   "execution_count": 8,
   "metadata": {},
   "outputs": [
    {
     "data": {
      "text/plain": [
       "array([[-0.86671733],\n",
       "       [-0.00568792],\n",
       "       [-0.98084935],\n",
       "       ...,\n",
       "       [-0.37586519],\n",
       "       [-0.38158814],\n",
       "       [-0.58588173]])"
      ]
     },
     "execution_count": 8,
     "metadata": {},
     "output_type": "execute_result"
    }
   ],
   "source": [
    "y"
   ]
  },
  {
   "cell_type": "code",
   "execution_count": 9,
   "metadata": {},
   "outputs": [],
   "source": [
    "import tensorflow as tf"
   ]
  },
  {
   "cell_type": "code",
   "execution_count": 10,
   "metadata": {},
   "outputs": [],
   "source": [
    "colunas = [tf.feature_column.numeric_column('x', shape = [1])]"
   ]
  },
  {
   "cell_type": "code",
   "execution_count": 11,
   "metadata": {},
   "outputs": [
    {
     "data": {
      "text/plain": [
       "[NumericColumn(key='x', shape=(1,), default_value=None, dtype=tf.float32, normalizer_fn=None)]"
      ]
     },
     "execution_count": 11,
     "metadata": {},
     "output_type": "execute_result"
    }
   ],
   "source": [
    "colunas"
   ]
  },
  {
   "cell_type": "code",
   "execution_count": 12,
   "metadata": {},
   "outputs": [
    {
     "name": "stdout",
     "output_type": "stream",
     "text": [
      "INFO:tensorflow:Using default config.\n",
      "WARNING:tensorflow:Using temporary folder as model directory: C:\\Users\\thale\\AppData\\Local\\Temp\\tmp7bdd16jf\n",
      "INFO:tensorflow:Using config: {'_model_dir': 'C:\\\\Users\\\\thale\\\\AppData\\\\Local\\\\Temp\\\\tmp7bdd16jf', '_tf_random_seed': None, '_save_summary_steps': 100, '_save_checkpoints_steps': None, '_save_checkpoints_secs': 600, '_session_config': allow_soft_placement: true\n",
      "graph_options {\n",
      "  rewrite_options {\n",
      "    meta_optimizer_iterations: ONE\n",
      "  }\n",
      "}\n",
      ", '_keep_checkpoint_max': 5, '_keep_checkpoint_every_n_hours': 10000, '_log_step_count_steps': 100, '_train_distribute': None, '_device_fn': None, '_protocol': None, '_eval_distribute': None, '_experimental_distribute': None, '_experimental_max_worker_delay_secs': None, '_service': None, '_cluster_spec': <tensorflow.python.training.server_lib.ClusterSpec object at 0x000001E02594C3C8>, '_task_type': 'worker', '_task_id': 0, '_global_id_in_cluster': 0, '_master': '', '_evaluation_master': '', '_is_chief': True, '_num_ps_replicas': 0, '_num_worker_replicas': 1}\n"
     ]
    }
   ],
   "source": [
    "regressor = tf.estimator.LinearRegressor(feature_columns=colunas)"
   ]
  },
  {
   "cell_type": "code",
   "execution_count": 13,
   "metadata": {},
   "outputs": [],
   "source": [
    "from sklearn.model_selection import train_test_split\n",
    "X_treinamento, X_teste, y_treinamento, y_teste = train_test_split(X, y, test_size = 0.3)"
   ]
  },
  {
   "cell_type": "code",
   "execution_count": 14,
   "metadata": {},
   "outputs": [
    {
     "data": {
      "text/plain": [
       "(15129, 1)"
      ]
     },
     "execution_count": 14,
     "metadata": {},
     "output_type": "execute_result"
    }
   ],
   "source": [
    "X_treinamento.shape"
   ]
  },
  {
   "cell_type": "code",
   "execution_count": 15,
   "metadata": {},
   "outputs": [
    {
     "data": {
      "text/plain": [
       "(15129, 1)"
      ]
     },
     "execution_count": 15,
     "metadata": {},
     "output_type": "execute_result"
    }
   ],
   "source": [
    "y_treinamento.shape"
   ]
  },
  {
   "cell_type": "code",
   "execution_count": 16,
   "metadata": {},
   "outputs": [
    {
     "data": {
      "text/plain": [
       "(6484, 1)"
      ]
     },
     "execution_count": 16,
     "metadata": {},
     "output_type": "execute_result"
    }
   ],
   "source": [
    "X_teste.shape"
   ]
  },
  {
   "cell_type": "code",
   "execution_count": 17,
   "metadata": {},
   "outputs": [
    {
     "data": {
      "text/plain": [
       "(6484, 1)"
      ]
     },
     "execution_count": 17,
     "metadata": {},
     "output_type": "execute_result"
    }
   ],
   "source": [
    "y_teste.shape"
   ]
  },
  {
   "cell_type": "code",
   "execution_count": 18,
   "metadata": {},
   "outputs": [],
   "source": [
    "funcao_treinamento = tf.estimator.inputs.numpy_input_fn({'x': X_treinamento}, y_treinamento,\n",
    "                                                        batch_size = 32, num_epochs = None, \n",
    "                                                        shuffle = True)"
   ]
  },
  {
   "cell_type": "code",
   "execution_count": 19,
   "metadata": {},
   "outputs": [],
   "source": [
    "funcao_teste = tf.estimator.inputs.numpy_input_fn({'x': X_teste}, y_teste, batch_size = 32, \n",
    "                                                  num_epochs = 1000, shuffle = False)"
   ]
  },
  {
   "cell_type": "code",
   "execution_count": 20,
   "metadata": {},
   "outputs": [
    {
     "name": "stdout",
     "output_type": "stream",
     "text": [
      "WARNING:tensorflow:From C:\\Users\\thale\\.conda\\envs\\curso_tensorflow\\lib\\site-packages\\tensorflow\\python\\training\\training_util.py:236: Variable.initialized_value (from tensorflow.python.ops.variables) is deprecated and will be removed in a future version.\n",
      "Instructions for updating:\n",
      "Use Variable.read_value. Variables in 2.X are initialized automatically both in eager and graph (inside tf.defun) contexts.\n",
      "WARNING:tensorflow:From C:\\Users\\thale\\.conda\\envs\\curso_tensorflow\\lib\\site-packages\\tensorflow_estimator\\python\\estimator\\inputs\\queues\\feeding_queue_runner.py:62: QueueRunner.__init__ (from tensorflow.python.training.queue_runner_impl) is deprecated and will be removed in a future version.\n",
      "Instructions for updating:\n",
      "To construct input pipelines, use the `tf.data` module.\n",
      "WARNING:tensorflow:From C:\\Users\\thale\\.conda\\envs\\curso_tensorflow\\lib\\site-packages\\tensorflow_estimator\\python\\estimator\\inputs\\queues\\feeding_functions.py:500: add_queue_runner (from tensorflow.python.training.queue_runner_impl) is deprecated and will be removed in a future version.\n",
      "Instructions for updating:\n",
      "To construct input pipelines, use the `tf.data` module.\n",
      "INFO:tensorflow:Calling model_fn.\n",
      "WARNING:tensorflow:From C:\\Users\\thale\\.conda\\envs\\curso_tensorflow\\lib\\site-packages\\tensorflow_estimator\\python\\estimator\\canned\\linear.py:308: to_float (from tensorflow.python.ops.math_ops) is deprecated and will be removed in a future version.\n",
      "Instructions for updating:\n",
      "Use `tf.cast` instead.\n",
      "INFO:tensorflow:Done calling model_fn.\n",
      "INFO:tensorflow:Create CheckpointSaverHook.\n",
      "WARNING:tensorflow:From C:\\Users\\thale\\.conda\\envs\\curso_tensorflow\\lib\\site-packages\\tensorflow\\python\\ops\\array_ops.py:1354: add_dispatch_support.<locals>.wrapper (from tensorflow.python.ops.array_ops) is deprecated and will be removed in a future version.\n",
      "Instructions for updating:\n",
      "Use tf.where in 2.0, which has the same broadcast rule as np.where\n",
      "INFO:tensorflow:Graph was finalized.\n",
      "INFO:tensorflow:Running local_init_op.\n",
      "INFO:tensorflow:Done running local_init_op.\n",
      "WARNING:tensorflow:From C:\\Users\\thale\\.conda\\envs\\curso_tensorflow\\lib\\site-packages\\tensorflow\\python\\training\\monitored_session.py:875: start_queue_runners (from tensorflow.python.training.queue_runner_impl) is deprecated and will be removed in a future version.\n",
      "Instructions for updating:\n",
      "To construct input pipelines, use the `tf.data` module.\n",
      "INFO:tensorflow:Saving checkpoints for 0 into C:\\Users\\thale\\AppData\\Local\\Temp\\tmp7bdd16jf\\model.ckpt.\n",
      "INFO:tensorflow:loss = 62.5965, step = 1\n",
      "INFO:tensorflow:global_step/sec: 1000.02\n",
      "INFO:tensorflow:loss = 16.333675, step = 101 (0.100 sec)\n",
      "INFO:tensorflow:global_step/sec: 1515.12\n",
      "INFO:tensorflow:loss = 7.2957077, step = 201 (0.066 sec)\n",
      "INFO:tensorflow:global_step/sec: 1724.17\n",
      "INFO:tensorflow:loss = 6.495105, step = 301 (0.058 sec)\n",
      "INFO:tensorflow:global_step/sec: 1666.67\n",
      "INFO:tensorflow:loss = 5.435145, step = 401 (0.060 sec)\n",
      "INFO:tensorflow:global_step/sec: 1587.28\n",
      "INFO:tensorflow:loss = 16.495008, step = 501 (0.065 sec)\n",
      "INFO:tensorflow:global_step/sec: 1538.47\n",
      "INFO:tensorflow:loss = 5.124027, step = 601 (0.064 sec)\n",
      "INFO:tensorflow:global_step/sec: 1587.3\n",
      "INFO:tensorflow:loss = 23.44211, step = 701 (0.063 sec)\n",
      "INFO:tensorflow:global_step/sec: 1470.59\n",
      "INFO:tensorflow:loss = 9.189201, step = 801 (0.067 sec)\n",
      "INFO:tensorflow:global_step/sec: 1694.91\n",
      "INFO:tensorflow:loss = 16.618828, step = 901 (0.060 sec)\n",
      "INFO:tensorflow:global_step/sec: 1666.68\n",
      "INFO:tensorflow:loss = 7.450617, step = 1001 (0.059 sec)\n",
      "INFO:tensorflow:global_step/sec: 1724.08\n",
      "INFO:tensorflow:loss = 23.521862, step = 1101 (0.059 sec)\n",
      "INFO:tensorflow:global_step/sec: 1666.71\n",
      "INFO:tensorflow:loss = 40.765526, step = 1201 (0.060 sec)\n",
      "INFO:tensorflow:global_step/sec: 1639.35\n",
      "INFO:tensorflow:loss = 21.676916, step = 1301 (0.061 sec)\n",
      "INFO:tensorflow:global_step/sec: 1666.67\n",
      "INFO:tensorflow:loss = 15.893957, step = 1401 (0.059 sec)\n",
      "INFO:tensorflow:global_step/sec: 1612.87\n",
      "INFO:tensorflow:loss = 7.612788, step = 1501 (0.063 sec)\n",
      "INFO:tensorflow:global_step/sec: 1694.96\n",
      "INFO:tensorflow:loss = 15.448124, step = 1601 (0.058 sec)\n",
      "INFO:tensorflow:global_step/sec: 1754.42\n",
      "INFO:tensorflow:loss = 18.567608, step = 1701 (0.058 sec)\n",
      "INFO:tensorflow:global_step/sec: 1694.91\n",
      "INFO:tensorflow:loss = 15.711002, step = 1801 (0.059 sec)\n",
      "INFO:tensorflow:global_step/sec: 1694.88\n",
      "INFO:tensorflow:loss = 10.80382, step = 1901 (0.059 sec)\n",
      "INFO:tensorflow:global_step/sec: 1612.91\n",
      "INFO:tensorflow:loss = 11.909837, step = 2001 (0.061 sec)\n",
      "INFO:tensorflow:global_step/sec: 1639.33\n",
      "INFO:tensorflow:loss = 15.543173, step = 2101 (0.062 sec)\n",
      "INFO:tensorflow:global_step/sec: 1562.5\n",
      "INFO:tensorflow:loss = 9.921538, step = 2201 (0.063 sec)\n",
      "INFO:tensorflow:global_step/sec: 1724.13\n",
      "INFO:tensorflow:loss = 13.875172, step = 2301 (0.059 sec)\n",
      "INFO:tensorflow:global_step/sec: 1639.33\n",
      "INFO:tensorflow:loss = 16.722324, step = 2401 (0.061 sec)\n",
      "INFO:tensorflow:global_step/sec: 1562.5\n",
      "INFO:tensorflow:loss = 7.6391764, step = 2501 (0.064 sec)\n",
      "INFO:tensorflow:global_step/sec: 1428.59\n",
      "INFO:tensorflow:loss = 11.696222, step = 2601 (0.069 sec)\n",
      "WARNING:tensorflow:It seems that global step (tf.train.get_global_step) has not been increased. Current value (could be stable): 2679 vs previous value: 2679. You could increase the global step by passing tf.train.get_global_step() to Optimizer.apply_gradients or Optimizer.minimize.\n",
      "INFO:tensorflow:global_step/sec: 1694.92\n",
      "INFO:tensorflow:loss = 16.992165, step = 2701 (0.060 sec)\n",
      "INFO:tensorflow:global_step/sec: 1694.87\n",
      "INFO:tensorflow:loss = 12.953413, step = 2801 (0.058 sec)\n",
      "INFO:tensorflow:global_step/sec: 1666.69\n",
      "INFO:tensorflow:loss = 11.376751, step = 2901 (0.060 sec)\n",
      "INFO:tensorflow:global_step/sec: 1694.91\n",
      "INFO:tensorflow:loss = 8.538185, step = 3001 (0.059 sec)\n",
      "INFO:tensorflow:global_step/sec: 1666.68\n",
      "INFO:tensorflow:loss = 6.608287, step = 3101 (0.061 sec)\n",
      "INFO:tensorflow:global_step/sec: 1694.93\n",
      "INFO:tensorflow:loss = 26.149681, step = 3201 (0.058 sec)\n",
      "INFO:tensorflow:global_step/sec: 1754.37\n",
      "INFO:tensorflow:loss = 21.3183, step = 3301 (0.058 sec)\n",
      "INFO:tensorflow:global_step/sec: 1492.53\n",
      "INFO:tensorflow:loss = 17.342499, step = 3401 (0.066 sec)\n",
      "INFO:tensorflow:global_step/sec: 1694.94\n",
      "INFO:tensorflow:loss = 7.2969236, step = 3501 (0.060 sec)\n",
      "INFO:tensorflow:global_step/sec: 1612.9\n",
      "INFO:tensorflow:loss = 7.5742893, step = 3601 (0.061 sec)\n",
      "INFO:tensorflow:global_step/sec: 1694.87\n",
      "INFO:tensorflow:loss = 8.864532, step = 3701 (0.060 sec)\n",
      "INFO:tensorflow:global_step/sec: 1587.32\n",
      "INFO:tensorflow:loss = 19.632812, step = 3801 (0.063 sec)\n",
      "INFO:tensorflow:global_step/sec: 1724.15\n",
      "INFO:tensorflow:loss = 12.896025, step = 3901 (0.058 sec)\n",
      "INFO:tensorflow:global_step/sec: 1666.67\n",
      "INFO:tensorflow:loss = 7.1307425, step = 4001 (0.059 sec)\n",
      "INFO:tensorflow:global_step/sec: 1587.27\n",
      "INFO:tensorflow:loss = 13.45891, step = 4101 (0.063 sec)\n",
      "INFO:tensorflow:global_step/sec: 1612.92\n",
      "INFO:tensorflow:loss = 8.421015, step = 4201 (0.062 sec)\n",
      "INFO:tensorflow:global_step/sec: 1724.16\n",
      "INFO:tensorflow:loss = 12.341665, step = 4301 (0.058 sec)\n",
      "INFO:tensorflow:global_step/sec: 1666.66\n",
      "INFO:tensorflow:loss = 12.747851, step = 4401 (0.060 sec)\n",
      "INFO:tensorflow:global_step/sec: 1639.32\n",
      "INFO:tensorflow:loss = 14.939919, step = 4501 (0.061 sec)\n",
      "INFO:tensorflow:global_step/sec: 1694.94\n",
      "INFO:tensorflow:loss = 8.885334, step = 4601 (0.059 sec)\n",
      "INFO:tensorflow:global_step/sec: 1724.13\n",
      "INFO:tensorflow:loss = 26.014797, step = 4701 (0.058 sec)\n",
      "INFO:tensorflow:global_step/sec: 1492.52\n",
      "INFO:tensorflow:loss = 37.094242, step = 4801 (0.067 sec)\n",
      "INFO:tensorflow:global_step/sec: 1449.28\n",
      "INFO:tensorflow:loss = 14.766829, step = 4901 (0.070 sec)\n",
      "INFO:tensorflow:global_step/sec: 1315.8\n",
      "INFO:tensorflow:loss = 16.954567, step = 5001 (0.076 sec)\n",
      "INFO:tensorflow:global_step/sec: 1162.78\n",
      "INFO:tensorflow:loss = 22.71307, step = 5101 (0.086 sec)\n",
      "INFO:tensorflow:global_step/sec: 1063.81\n",
      "INFO:tensorflow:loss = 7.5303144, step = 5201 (0.093 sec)\n",
      "INFO:tensorflow:global_step/sec: 1333.36\n",
      "INFO:tensorflow:loss = 10.55377, step = 5301 (0.077 sec)\n",
      "INFO:tensorflow:global_step/sec: 1515.18\n",
      "INFO:tensorflow:loss = 20.667208, step = 5401 (0.064 sec)\n",
      "INFO:tensorflow:global_step/sec: 1492.53\n",
      "INFO:tensorflow:loss = 7.5114584, step = 5501 (0.067 sec)\n"
     ]
    },
    {
     "name": "stdout",
     "output_type": "stream",
     "text": [
      "INFO:tensorflow:global_step/sec: 1587.3\n",
      "INFO:tensorflow:loss = 9.391718, step = 5601 (0.063 sec)\n",
      "INFO:tensorflow:global_step/sec: 1315.78\n",
      "INFO:tensorflow:loss = 6.0163784, step = 5701 (0.076 sec)\n",
      "INFO:tensorflow:global_step/sec: 1428.58\n",
      "INFO:tensorflow:loss = 6.3382797, step = 5801 (0.071 sec)\n",
      "INFO:tensorflow:global_step/sec: 1666.67\n",
      "INFO:tensorflow:loss = 7.806306, step = 5901 (0.060 sec)\n",
      "INFO:tensorflow:global_step/sec: 1612.85\n",
      "INFO:tensorflow:loss = 10.3153, step = 6001 (0.061 sec)\n",
      "INFO:tensorflow:global_step/sec: 1694.99\n",
      "INFO:tensorflow:loss = 15.706558, step = 6101 (0.060 sec)\n",
      "INFO:tensorflow:global_step/sec: 1666.62\n",
      "INFO:tensorflow:loss = 7.0925355, step = 6201 (0.059 sec)\n",
      "INFO:tensorflow:global_step/sec: 1694.94\n",
      "INFO:tensorflow:loss = 14.514145, step = 6301 (0.060 sec)\n",
      "INFO:tensorflow:global_step/sec: 1666.66\n",
      "INFO:tensorflow:loss = 10.494802, step = 6401 (0.059 sec)\n",
      "INFO:tensorflow:global_step/sec: 1666.69\n",
      "INFO:tensorflow:loss = 38.61815, step = 6501 (0.061 sec)\n",
      "INFO:tensorflow:global_step/sec: 1724.12\n",
      "INFO:tensorflow:loss = 8.264469, step = 6601 (0.057 sec)\n",
      "INFO:tensorflow:global_step/sec: 1515.16\n",
      "INFO:tensorflow:loss = 31.333818, step = 6701 (0.066 sec)\n",
      "INFO:tensorflow:global_step/sec: 1724.11\n",
      "INFO:tensorflow:loss = 17.633839, step = 6801 (0.058 sec)\n",
      "INFO:tensorflow:global_step/sec: 1639.33\n",
      "INFO:tensorflow:loss = 14.30558, step = 6901 (0.062 sec)\n",
      "INFO:tensorflow:global_step/sec: 1754.41\n",
      "INFO:tensorflow:loss = 15.716581, step = 7001 (0.056 sec)\n",
      "INFO:tensorflow:global_step/sec: 1666.66\n",
      "INFO:tensorflow:loss = 8.148378, step = 7101 (0.061 sec)\n",
      "INFO:tensorflow:global_step/sec: 1694.94\n",
      "INFO:tensorflow:loss = 19.495766, step = 7201 (0.058 sec)\n",
      "INFO:tensorflow:global_step/sec: 1612.88\n",
      "INFO:tensorflow:loss = 12.280944, step = 7301 (0.063 sec)\n",
      "INFO:tensorflow:global_step/sec: 1449.29\n",
      "INFO:tensorflow:loss = 18.619873, step = 7401 (0.068 sec)\n",
      "INFO:tensorflow:global_step/sec: 1639.3\n",
      "INFO:tensorflow:loss = 16.159883, step = 7501 (0.061 sec)\n",
      "INFO:tensorflow:global_step/sec: 1694.96\n",
      "INFO:tensorflow:loss = 10.825964, step = 7601 (0.060 sec)\n",
      "INFO:tensorflow:global_step/sec: 1612.88\n",
      "INFO:tensorflow:loss = 27.365349, step = 7701 (0.061 sec)\n",
      "INFO:tensorflow:global_step/sec: 1785.72\n",
      "INFO:tensorflow:loss = 15.240932, step = 7801 (0.056 sec)\n",
      "INFO:tensorflow:global_step/sec: 1666.67\n",
      "INFO:tensorflow:loss = 14.84313, step = 7901 (0.060 sec)\n",
      "INFO:tensorflow:global_step/sec: 1694.91\n",
      "INFO:tensorflow:loss = 9.780859, step = 8001 (0.059 sec)\n",
      "INFO:tensorflow:global_step/sec: 1724.12\n",
      "INFO:tensorflow:loss = 9.947557, step = 8101 (0.059 sec)\n",
      "INFO:tensorflow:global_step/sec: 1666.72\n",
      "INFO:tensorflow:loss = 21.567316, step = 8201 (0.060 sec)\n",
      "INFO:tensorflow:global_step/sec: 1754.35\n",
      "INFO:tensorflow:loss = 19.459528, step = 8301 (0.057 sec)\n",
      "INFO:tensorflow:global_step/sec: 1754.37\n",
      "INFO:tensorflow:loss = 9.325761, step = 8401 (0.056 sec)\n",
      "INFO:tensorflow:global_step/sec: 1666.69\n",
      "INFO:tensorflow:loss = 21.380571, step = 8501 (0.060 sec)\n",
      "INFO:tensorflow:global_step/sec: 1369.83\n",
      "INFO:tensorflow:loss = 43.75564, step = 8601 (0.074 sec)\n",
      "INFO:tensorflow:global_step/sec: 1388.92\n",
      "INFO:tensorflow:loss = 21.139875, step = 8701 (0.072 sec)\n",
      "INFO:tensorflow:global_step/sec: 1639.28\n",
      "INFO:tensorflow:loss = 5.151972, step = 8801 (0.060 sec)\n",
      "INFO:tensorflow:global_step/sec: 1449.28\n",
      "INFO:tensorflow:loss = 8.797887, step = 8901 (0.070 sec)\n",
      "INFO:tensorflow:global_step/sec: 1388.88\n",
      "INFO:tensorflow:loss = 9.35837, step = 9001 (0.073 sec)\n",
      "INFO:tensorflow:global_step/sec: 1515.15\n",
      "INFO:tensorflow:loss = 10.90263, step = 9101 (0.064 sec)\n",
      "INFO:tensorflow:global_step/sec: 1515.18\n",
      "INFO:tensorflow:loss = 26.590408, step = 9201 (0.066 sec)\n",
      "INFO:tensorflow:global_step/sec: 1298.71\n",
      "INFO:tensorflow:loss = 12.137438, step = 9301 (0.078 sec)\n",
      "INFO:tensorflow:global_step/sec: 1818.16\n",
      "INFO:tensorflow:loss = 11.820736, step = 9401 (0.054 sec)\n",
      "INFO:tensorflow:global_step/sec: 1369.87\n",
      "INFO:tensorflow:loss = 12.072245, step = 9501 (0.073 sec)\n",
      "INFO:tensorflow:global_step/sec: 1562.5\n",
      "INFO:tensorflow:loss = 20.372099, step = 9601 (0.065 sec)\n",
      "INFO:tensorflow:global_step/sec: 1587.27\n",
      "INFO:tensorflow:loss = 20.508343, step = 9701 (0.062 sec)\n",
      "INFO:tensorflow:global_step/sec: 1639.35\n",
      "INFO:tensorflow:loss = 6.9892764, step = 9801 (0.061 sec)\n",
      "INFO:tensorflow:global_step/sec: 1562.54\n",
      "INFO:tensorflow:loss = 11.714745, step = 9901 (0.064 sec)\n",
      "INFO:tensorflow:Saving checkpoints for 10000 into C:\\Users\\thale\\AppData\\Local\\Temp\\tmp7bdd16jf\\model.ckpt.\n",
      "INFO:tensorflow:Loss for final step: 8.521487.\n"
     ]
    },
    {
     "data": {
      "text/plain": [
       "<tensorflow_estimator.python.estimator.canned.linear.LinearRegressor at 0x1e025918d88>"
      ]
     },
     "execution_count": 20,
     "metadata": {},
     "output_type": "execute_result"
    }
   ],
   "source": [
    "regressor.train(input_fn = funcao_treinamento, steps = 10000)"
   ]
  },
  {
   "cell_type": "code",
   "execution_count": 21,
   "metadata": {},
   "outputs": [
    {
     "name": "stdout",
     "output_type": "stream",
     "text": [
      "INFO:tensorflow:Calling model_fn.\n",
      "INFO:tensorflow:Done calling model_fn.\n",
      "INFO:tensorflow:Starting evaluation at 2020-01-11T15:35:07Z\n",
      "INFO:tensorflow:Graph was finalized.\n",
      "WARNING:tensorflow:From C:\\Users\\thale\\.conda\\envs\\curso_tensorflow\\lib\\site-packages\\tensorflow\\python\\training\\saver.py:1276: checkpoint_exists (from tensorflow.python.training.checkpoint_management) is deprecated and will be removed in a future version.\n",
      "Instructions for updating:\n",
      "Use standard file APIs to check for files with this prefix.\n",
      "INFO:tensorflow:Restoring parameters from C:\\Users\\thale\\AppData\\Local\\Temp\\tmp7bdd16jf\\model.ckpt-10000\n",
      "INFO:tensorflow:Running local_init_op.\n",
      "INFO:tensorflow:Done running local_init_op.\n",
      "INFO:tensorflow:Evaluation [1000/10000]\n",
      "INFO:tensorflow:Evaluation [2000/10000]\n",
      "INFO:tensorflow:Evaluation [3000/10000]\n",
      "INFO:tensorflow:Evaluation [4000/10000]\n",
      "INFO:tensorflow:Evaluation [5000/10000]\n",
      "INFO:tensorflow:Evaluation [6000/10000]\n",
      "INFO:tensorflow:Evaluation [7000/10000]\n",
      "INFO:tensorflow:Evaluation [8000/10000]\n",
      "INFO:tensorflow:Evaluation [9000/10000]\n",
      "INFO:tensorflow:Evaluation [10000/10000]\n",
      "INFO:tensorflow:Finished evaluation at 2020-01-11-15:35:13\n",
      "INFO:tensorflow:Saving dict for global step 10000: average_loss = 0.50582683, global_step = 10000, label/mean = -0.0006181499, loss = 16.186459, prediction/mean = -0.0005127219\n",
      "INFO:tensorflow:Saving 'checkpoint_path' summary for global step 10000: C:\\Users\\thale\\AppData\\Local\\Temp\\tmp7bdd16jf\\model.ckpt-10000\n"
     ]
    }
   ],
   "source": [
    "metricas_treinamento = regressor.evaluate(input_fn = funcao_treinamento, steps = 10000)"
   ]
  },
  {
   "cell_type": "code",
   "execution_count": 22,
   "metadata": {},
   "outputs": [
    {
     "name": "stdout",
     "output_type": "stream",
     "text": [
      "INFO:tensorflow:Calling model_fn.\n",
      "INFO:tensorflow:Done calling model_fn.\n",
      "INFO:tensorflow:Starting evaluation at 2020-01-11T15:35:14Z\n",
      "INFO:tensorflow:Graph was finalized.\n",
      "INFO:tensorflow:Restoring parameters from C:\\Users\\thale\\AppData\\Local\\Temp\\tmp7bdd16jf\\model.ckpt-10000\n",
      "INFO:tensorflow:Running local_init_op.\n",
      "INFO:tensorflow:Done running local_init_op.\n",
      "INFO:tensorflow:Evaluation [1000/10000]\n",
      "INFO:tensorflow:Evaluation [2000/10000]\n",
      "INFO:tensorflow:Evaluation [3000/10000]\n",
      "INFO:tensorflow:Evaluation [4000/10000]\n",
      "INFO:tensorflow:Evaluation [5000/10000]\n",
      "INFO:tensorflow:Evaluation [6000/10000]\n",
      "INFO:tensorflow:Evaluation [7000/10000]\n",
      "INFO:tensorflow:Evaluation [8000/10000]\n",
      "INFO:tensorflow:Evaluation [9000/10000]\n",
      "INFO:tensorflow:Evaluation [10000/10000]\n",
      "INFO:tensorflow:Finished evaluation at 2020-01-11-15:35:19\n",
      "INFO:tensorflow:Saving dict for global step 10000: average_loss = 0.5099522, global_step = 10000, label/mean = 0.0014611839, loss = 16.31847, prediction/mean = 0.007677458\n",
      "INFO:tensorflow:Saving 'checkpoint_path' summary for global step 10000: C:\\Users\\thale\\AppData\\Local\\Temp\\tmp7bdd16jf\\model.ckpt-10000\n"
     ]
    }
   ],
   "source": [
    "metricas_teste = regressor.evaluate(input_fn = funcao_teste, steps = 10000)"
   ]
  },
  {
   "cell_type": "code",
   "execution_count": 23,
   "metadata": {},
   "outputs": [
    {
     "data": {
      "text/plain": [
       "{'average_loss': 0.50582683,\n",
       " 'label/mean': -0.0006181499,\n",
       " 'loss': 16.186459,\n",
       " 'prediction/mean': -0.0005127219,\n",
       " 'global_step': 10000}"
      ]
     },
     "execution_count": 23,
     "metadata": {},
     "output_type": "execute_result"
    }
   ],
   "source": [
    "metricas_treinamento"
   ]
  },
  {
   "cell_type": "code",
   "execution_count": 24,
   "metadata": {},
   "outputs": [
    {
     "data": {
      "text/plain": [
       "{'average_loss': 0.5099522,\n",
       " 'label/mean': 0.0014611839,\n",
       " 'loss': 16.31847,\n",
       " 'prediction/mean': 0.007677458,\n",
       " 'global_step': 10000}"
      ]
     },
     "execution_count": 24,
     "metadata": {},
     "output_type": "execute_result"
    }
   ],
   "source": [
    "metricas_teste"
   ]
  },
  {
   "cell_type": "code",
   "execution_count": 25,
   "metadata": {},
   "outputs": [
    {
     "data": {
      "text/plain": [
       "array([[ 800],\n",
       "       [ 900],\n",
       "       [1000]])"
      ]
     },
     "execution_count": 25,
     "metadata": {},
     "output_type": "execute_result"
    }
   ],
   "source": [
    "import numpy as np\n",
    "novas_casas = np.array([[800], [900], [1000]])\n",
    "novas_casas"
   ]
  },
  {
   "cell_type": "code",
   "execution_count": 26,
   "metadata": {},
   "outputs": [
    {
     "data": {
      "text/plain": [
       "array([[-1.39358923],\n",
       "       [-1.28470655],\n",
       "       [-1.17582386]])"
      ]
     },
     "execution_count": 26,
     "metadata": {},
     "output_type": "execute_result"
    }
   ],
   "source": [
    "novas_casas = scaler_x.transform(novas_casas)\n",
    "novas_casas"
   ]
  },
  {
   "cell_type": "code",
   "execution_count": 27,
   "metadata": {},
   "outputs": [],
   "source": [
    "funcao_previsao = tf.estimator.inputs.numpy_input_fn({'x': novas_casas}, shuffle = False)"
   ]
  },
  {
   "cell_type": "code",
   "execution_count": 28,
   "metadata": {},
   "outputs": [],
   "source": [
    "previsoes = regressor.predict(input_fn = funcao_previsao)"
   ]
  },
  {
   "cell_type": "code",
   "execution_count": 29,
   "metadata": {},
   "outputs": [
    {
     "data": {
      "text/plain": [
       "<generator object Estimator.predict at 0x000001E0259519C8>"
      ]
     },
     "execution_count": 29,
     "metadata": {},
     "output_type": "execute_result"
    }
   ],
   "source": [
    "previsoes"
   ]
  },
  {
   "cell_type": "code",
   "execution_count": 30,
   "metadata": {},
   "outputs": [
    {
     "name": "stdout",
     "output_type": "stream",
     "text": [
      "INFO:tensorflow:Calling model_fn.\n",
      "INFO:tensorflow:Done calling model_fn.\n",
      "INFO:tensorflow:Graph was finalized.\n",
      "INFO:tensorflow:Restoring parameters from C:\\Users\\thale\\AppData\\Local\\Temp\\tmp7bdd16jf\\model.ckpt-10000\n",
      "INFO:tensorflow:Running local_init_op.\n",
      "INFO:tensorflow:Done running local_init_op.\n"
     ]
    },
    {
     "data": {
      "text/plain": [
       "[{'predictions': array([-0.9831038], dtype=float32)},\n",
       " {'predictions': array([-0.906138], dtype=float32)},\n",
       " {'predictions': array([-0.82917213], dtype=float32)}]"
      ]
     },
     "execution_count": 30,
     "metadata": {},
     "output_type": "execute_result"
    }
   ],
   "source": [
    "list(previsoes)"
   ]
  },
  {
   "cell_type": "code",
   "execution_count": 31,
   "metadata": {},
   "outputs": [
    {
     "name": "stdout",
     "output_type": "stream",
     "text": [
      "INFO:tensorflow:Calling model_fn.\n",
      "INFO:tensorflow:Done calling model_fn.\n",
      "INFO:tensorflow:Graph was finalized.\n",
      "INFO:tensorflow:Restoring parameters from C:\\Users\\thale\\AppData\\Local\\Temp\\tmp7bdd16jf\\model.ckpt-10000\n",
      "INFO:tensorflow:Running local_init_op.\n",
      "INFO:tensorflow:Done running local_init_op.\n",
      "[179172.36]\n",
      "[207427.92]\n",
      "[235683.55]\n"
     ]
    }
   ],
   "source": [
    "for p in regressor.predict(input_fn = funcao_previsao):\n",
    "    #print(p['predictions'])\n",
    "    print(scaler_y.inverse_transform(p['predictions']))"
   ]
  }
 ],
 "metadata": {
  "kernelspec": {
   "display_name": "Python 3",
   "language": "python",
   "name": "python3"
  },
  "language_info": {
   "codemirror_mode": {
    "name": "ipython",
    "version": 3
   },
   "file_extension": ".py",
   "mimetype": "text/x-python",
   "name": "python",
   "nbconvert_exporter": "python",
   "pygments_lexer": "ipython3",
   "version": "3.7.4"
  }
 },
 "nbformat": 4,
 "nbformat_minor": 2
}
